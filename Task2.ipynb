{
  "nbformat": 4,
  "nbformat_minor": 0,
  "metadata": {
    "colab": {
      "provenance": [],
      "authorship_tag": "ABX9TyMrmhG9KuoUsbaazWil0uZg",
      "include_colab_link": true
    },
    "kernelspec": {
      "name": "python3",
      "display_name": "Python 3"
    },
    "language_info": {
      "name": "python"
    }
  },
  "cells": [
    {
      "cell_type": "markdown",
      "metadata": {
        "id": "view-in-github",
        "colab_type": "text"
      },
      "source": [
        "<a href=\"https://colab.research.google.com/github/Subhamm18/21052115_AI/blob/main/Task2.ipynb\" target=\"_parent\"><img src=\"https://colab.research.google.com/assets/colab-badge.svg\" alt=\"Open In Colab\"/></a>"
      ]
    },
    {
      "cell_type": "code",
      "execution_count": 4,
      "metadata": {
        "colab": {
          "base_uri": "https://localhost:8080/"
        },
        "id": "WZ0z0bPJ8sM1",
        "outputId": "1e1952b5-9e9e-4b17-99f0-2721e2dfd39e"
      },
      "outputs": [
        {
          "output_type": "stream",
          "name": "stdout",
          "text": [
            "Enter the initial board state (e.g., '0000W00BBW0'): BW000W00BBW0\n",
            "Utility of Player 1 (Player MAX): 5\n"
          ]
        }
      ],
      "source": [
        "def utility(board):\n",
        "    # Utility function: Counts the number of black coins on the board\n",
        "    return board.count('B')\n",
        "\n",
        "def terminal_state(board):\n",
        "    # Terminal state check: No empty blocks on the board\n",
        "    return '0' not in board\n",
        "\n",
        "def actions(board):\n",
        "    # Generate a list of possible actions (indices of empty blocks)\n",
        "    return [i for i, block in enumerate(board) if block == '0']\n",
        "\n",
        "def result(board, action, player):\n",
        "    # Apply the action to the board and update the coins based on the game rules\n",
        "    new_board = list(board)\n",
        "    new_board[action] = 'B' if player == 1 else 'W'\n",
        "\n",
        "    # Update adjacent coins\n",
        "    for i in range(max(0, action - 1), min(len(board), action + 2)):\n",
        "        if new_board[i] == 'B':\n",
        "            new_board[i] = 'W'\n",
        "        elif new_board[i] == 'W':\n",
        "            new_board[i] = 'B'\n",
        "\n",
        "    return ''.join(new_board)\n",
        "\n",
        "def minimax(board, depth, maximizing_player):\n",
        "    if terminal_state(board) or depth == 0:\n",
        "        return utility(board)\n",
        "\n",
        "    if maximizing_player:\n",
        "        max_eval = float('-inf')\n",
        "        for action in actions(board):\n",
        "            eval = minimax(result(board, action, 1), depth - 1, False)\n",
        "            max_eval = max(max_eval, eval)\n",
        "        return max_eval\n",
        "    else:\n",
        "        min_eval = float('inf')\n",
        "        for action in actions(board):\n",
        "            eval = minimax(result(board, action, 2), depth - 1, True)\n",
        "            min_eval = min(min_eval, eval)\n",
        "        return min_eval\n",
        "\n",
        "# User input for the initial board state\n",
        "initial_board = input(\"Enter the initial board state (e.g., '0000W00BBW0'): \")\n",
        "\n",
        "# Call the minimax function with initial parameters\n",
        "result = minimax(initial_board, depth=3, maximizing_player=True)\n",
        "\n",
        "# Output the result\n",
        "print(\"Utility of Player 1 (Player MAX):\", result)\n"
      ]
    }
  ]
}
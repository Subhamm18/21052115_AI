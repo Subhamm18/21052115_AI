{
  "nbformat": 4,
  "nbformat_minor": 0,
  "metadata": {
    "colab": {
      "provenance": [],
      "authorship_tag": "ABX9TyPr5ZKVgXTnFG1cZbZ3vmZn",
      "include_colab_link": true
    },
    "kernelspec": {
      "name": "python3",
      "display_name": "Python 3"
    },
    "language_info": {
      "name": "python"
    }
  },
  "cells": [
    {
      "cell_type": "markdown",
      "metadata": {
        "id": "view-in-github",
        "colab_type": "text"
      },
      "source": [
        "<a href=\"https://colab.research.google.com/github/Subhamm18/21052115_AI/blob/main/Pradhan.ipynb\" target=\"_parent\"><img src=\"https://colab.research.google.com/assets/colab-badge.svg\" alt=\"Open In Colab\"/></a>"
      ]
    },
    {
      "cell_type": "code",
      "execution_count": 1,
      "metadata": {
        "colab": {
          "base_uri": "https://localhost:8080/"
        },
        "id": "TiWoT6VUdFJ3",
        "outputId": "1451181d-d745-47f8-acc2-1f3ce1f95b4a"
      },
      "outputs": [
        {
          "output_type": "stream",
          "name": "stdout",
          "text": [
            "Requirement already satisfied: opencv-python-headless in /usr/local/lib/python3.10/dist-packages (4.8.1.78)\n",
            "Requirement already satisfied: numpy>=1.21.2 in /usr/local/lib/python3.10/dist-packages (from opencv-python-headless) (1.23.5)\n"
          ]
        }
      ],
      "source": [
        "!pip install opencv-python-headless\n"
      ]
    },
    {
      "cell_type": "code",
      "source": [
        "!pip install deap\n"
      ],
      "metadata": {
        "colab": {
          "base_uri": "https://localhost:8080/"
        },
        "id": "Xx9AOs1WdSD8",
        "outputId": "41d57907-7a25-4514-c902-14594d54f069"
      },
      "execution_count": 2,
      "outputs": [
        {
          "output_type": "stream",
          "name": "stdout",
          "text": [
            "Collecting deap\n",
            "  Downloading deap-1.4.1-cp310-cp310-manylinux_2_5_x86_64.manylinux1_x86_64.manylinux_2_17_x86_64.manylinux2014_x86_64.whl (135 kB)\n",
            "\u001b[?25l     \u001b[90m━━━━━━━━━━━━━━━━━━━━━━━━━━━━━━━━━━━━━━━━\u001b[0m \u001b[32m0.0/135.4 kB\u001b[0m \u001b[31m?\u001b[0m eta \u001b[36m-:--:--\u001b[0m\r\u001b[2K     \u001b[91m━━━━━━━━━━━━\u001b[0m\u001b[90m╺\u001b[0m\u001b[90m━━━━━━━━━━━━━━━━━━━━━━━━━━━\u001b[0m \u001b[32m41.0/135.4 kB\u001b[0m \u001b[31m1.5 MB/s\u001b[0m eta \u001b[36m0:00:01\u001b[0m\r\u001b[2K     \u001b[90m━━━━━━━━━━━━━━━━━━━━━━━━━━━━━━━━━━━━━━━━\u001b[0m \u001b[32m135.4/135.4 kB\u001b[0m \u001b[31m2.5 MB/s\u001b[0m eta \u001b[36m0:00:00\u001b[0m\n",
            "\u001b[?25hRequirement already satisfied: numpy in /usr/local/lib/python3.10/dist-packages (from deap) (1.23.5)\n",
            "Installing collected packages: deap\n",
            "Successfully installed deap-1.4.1\n"
          ]
        }
      ]
    },
    {
      "cell_type": "code",
      "source": [
        "!pip install numpy\n"
      ],
      "metadata": {
        "colab": {
          "base_uri": "https://localhost:8080/"
        },
        "id": "Nkhu2TBZdUJV",
        "outputId": "0ff29d7e-44d5-448f-fc2f-b8a3cf714d51"
      },
      "execution_count": 3,
      "outputs": [
        {
          "output_type": "stream",
          "name": "stdout",
          "text": [
            "Requirement already satisfied: numpy in /usr/local/lib/python3.10/dist-packages (1.23.5)\n"
          ]
        }
      ]
    },
    {
      "cell_type": "code",
      "source": [
        "import numpy as np\n",
        "import cv2\n",
        "import random\n",
        "from deap import base, creator, tools, algorithms\n",
        "import functools"
      ],
      "metadata": {
        "id": "nm-71b5idovA"
      },
      "execution_count": 13,
      "outputs": []
    },
    {
      "cell_type": "code",
      "source": [
        "# Define the DEAP types for the genetic algorithm\n",
        "creator.create(\"FitnessMin\", base.Fitness, weights=(-1.0,))\n",
        "creator.create(\"Individual\", list, fitness=creator.FitnessMin)\n",
        "\n",
        "# Custom functions to generate individuals (squares)\n",
        "def generate_individual(canvas):\n",
        "    x = random.randint(0, canvas.shape[1] - 1)\n",
        "    y = random.randint(0, canvas.shape[0] - 1)\n",
        "    color = (random.randint(0, 255), random.randint(0, 255), random.randint(0, 255))\n",
        "    opacity = random.uniform(0.2, 1.0)\n",
        "    return x, y, color, opacity\n",
        "\n",
        "# Define a custom initialization function to set the canvas\n",
        "def init_individual(canvas):\n",
        "    return generate_individual(canvas)\n",
        "\n",
        "# Define the toolbox\n",
        "toolbox = base.Toolbox()\n",
        "toolbox.register(\"individual\", tools.initIterate, creator.Individual, init_individual, canvas=None)\n",
        "toolbox.register(\"population\", tools.initRepeat, list, toolbox.individual, n=num_squares)\n",
        "\n",
        "# Step 1: Generate a Canvas\n",
        "def create_canvas(width, height):\n",
        "    return np.zeros((height, width, 3), dtype=np.uint8)\n",
        "\n",
        "# Step 2: Generate Population (Not required when using DEAP)\n",
        "\n",
        "# Objective function to evaluate the fitness of an individual\n",
        "def evaluate_fitness(individual, target_image):\n",
        "    # Render the individual on the canvas\n",
        "    canvas = create_canvas(target_image.shape[1], target_image.shape[0])\n",
        "    for square in individual:\n",
        "        x, y, color, opacity = square\n",
        "        cv2.rectangle(canvas, (x, y), (x + 50, y + 50), color, -1, lineType=cv2.LINE_AA)\n",
        "\n",
        "    # Calculate the fitness (objective function value)\n",
        "    diff = target_image - canvas\n",
        "    mse = np.mean(np.square(diff))\n",
        "    return mse,\n",
        "\n",
        "# Step 3: Crossover\n",
        "def custom_crossover(ind1, ind2):\n",
        "    # Implement your custom crossover logic here\n",
        "    return ind1, ind2\n",
        "\n",
        "toolbox.register(\"mate\", custom_crossover)\n",
        "\n",
        "# Step 4: Mutation\n",
        "def custom_mutation(individual):\n",
        "    # Implement your custom mutation logic here\n",
        "    return individual,\n",
        "\n",
        "toolbox.register(\"mutate\", custom_mutation)\n",
        "\n",
        "# Step 5: Selection\n",
        "toolbox.register(\"select\", tools.selTournament, tournsize=3)\n",
        "\n",
        "# Main function to run the genetic algorithm\n",
        "def main(target_image, num_squares, generations):\n",
        "    canvas = create_canvas(target_image.shape[1], target_image.shape[0])\n",
        "\n",
        "    # Create a population of individuals\n",
        "    toolbox.individual.func.keywords['canvas'] = canvas  # Set the canvas in the function\n",
        "    population = toolbox.population(n=num_squares)\n",
        "\n",
        "    # Evaluate the fitness of each individual\n",
        "    fitness_values = [evaluate_fitness(ind, target_image) for ind in population]\n",
        "    for ind, fit in zip(population, fitness_values):\n",
        "        ind.fitness.values = fit\n",
        "\n",
        "    for generation in range(generations):\n",
        "        # Select the next generation\n",
        "        offspring = algorithms.varAnd(population, toolbox, cxpb=0.7, mutpb=0.2)\n",
        "        fits = [ind.fitness.values[0] for ind in offspring]\n",
        "\n",
        "        # Replace the current population with the offspring\n",
        "        population = tools.selBest(offspring, len(population))\n",
        "        for ind, fit in zip(population, fits):\n",
        "            ind.fitness.values = fit\n",
        "\n",
        "        # Display the current best image\n",
        "        best_individual = tools.selBest(population, 1)[0]\n",
        "        best_image = canvas.copy()\n",
        "        for square in best_individual:\n",
        "            x, y, color, opacity = square\n",
        "            cv2.rectangle(best_image, (x, y), (x + 50, y + 50), color, -1, lineType=cv2.LINE_AA)\n",
        "        cv2.imshow('Best Image', best_image)\n",
        "        cv2.waitKey(1)\n",
        "\n",
        "    cv2.destroyAllWindows()\n",
        "\n",
        "if __name__ == \"__main__\":\n",
        "    width, height = 400, 400  # Define the canvas size\n",
        "    num_squares = 50  # Number of squares in the population\n",
        "    generations = 100  # Number of generations to run\n",
        "\n",
        "    target_image = create_canvas(width, height)  # Replace with your target image\n",
        "\n",
        "    main(target_image, num_squares, generations)\n"
      ],
      "metadata": {
        "colab": {
          "base_uri": "https://localhost:8080/",
          "height": 332
        },
        "id": "Lgj9UDJ9drpB",
        "outputId": "6bdd8cb4-cd9e-4d90-d230-e93310ac2aba"
      },
      "execution_count": 16,
      "outputs": [
        {
          "output_type": "error",
          "ename": "AttributeError",
          "evalue": "ignored",
          "traceback": [
            "\u001b[0;31m---------------------------------------------------------------------------\u001b[0m",
            "\u001b[0;31mAttributeError\u001b[0m                            Traceback (most recent call last)",
            "\u001b[0;32m<ipython-input-16-49de9db14e8c>\u001b[0m in \u001b[0;36m<cell line: 92>\u001b[0;34m()\u001b[0m\n\u001b[1;32m     97\u001b[0m     \u001b[0mtarget_image\u001b[0m \u001b[0;34m=\u001b[0m \u001b[0mcreate_canvas\u001b[0m\u001b[0;34m(\u001b[0m\u001b[0mwidth\u001b[0m\u001b[0;34m,\u001b[0m \u001b[0mheight\u001b[0m\u001b[0;34m)\u001b[0m  \u001b[0;31m# Replace with your target image\u001b[0m\u001b[0;34m\u001b[0m\u001b[0;34m\u001b[0m\u001b[0m\n\u001b[1;32m     98\u001b[0m \u001b[0;34m\u001b[0m\u001b[0m\n\u001b[0;32m---> 99\u001b[0;31m     \u001b[0mmain\u001b[0m\u001b[0;34m(\u001b[0m\u001b[0mtarget_image\u001b[0m\u001b[0;34m,\u001b[0m \u001b[0mnum_squares\u001b[0m\u001b[0;34m,\u001b[0m \u001b[0mgenerations\u001b[0m\u001b[0;34m)\u001b[0m\u001b[0;34m\u001b[0m\u001b[0;34m\u001b[0m\u001b[0m\n\u001b[0m",
            "\u001b[0;32m<ipython-input-16-49de9db14e8c>\u001b[0m in \u001b[0;36mmain\u001b[0;34m(target_image, num_squares, generations)\u001b[0m\n\u001b[1;32m     61\u001b[0m \u001b[0;34m\u001b[0m\u001b[0m\n\u001b[1;32m     62\u001b[0m     \u001b[0;31m# Create a population of individuals\u001b[0m\u001b[0;34m\u001b[0m\u001b[0;34m\u001b[0m\u001b[0m\n\u001b[0;32m---> 63\u001b[0;31m     \u001b[0mtoolbox\u001b[0m\u001b[0;34m.\u001b[0m\u001b[0mindividual\u001b[0m\u001b[0;34m.\u001b[0m\u001b[0mfunc\u001b[0m\u001b[0;34m.\u001b[0m\u001b[0mkeywords\u001b[0m\u001b[0;34m[\u001b[0m\u001b[0;34m'canvas'\u001b[0m\u001b[0;34m]\u001b[0m \u001b[0;34m=\u001b[0m \u001b[0mcanvas\u001b[0m  \u001b[0;31m# Set the canvas in the function\u001b[0m\u001b[0;34m\u001b[0m\u001b[0;34m\u001b[0m\u001b[0m\n\u001b[0m\u001b[1;32m     64\u001b[0m     \u001b[0mpopulation\u001b[0m \u001b[0;34m=\u001b[0m \u001b[0mtoolbox\u001b[0m\u001b[0;34m.\u001b[0m\u001b[0mpopulation\u001b[0m\u001b[0;34m(\u001b[0m\u001b[0mn\u001b[0m\u001b[0;34m=\u001b[0m\u001b[0mnum_squares\u001b[0m\u001b[0;34m)\u001b[0m\u001b[0;34m\u001b[0m\u001b[0;34m\u001b[0m\u001b[0m\n\u001b[1;32m     65\u001b[0m \u001b[0;34m\u001b[0m\u001b[0m\n",
            "\u001b[0;31mAttributeError\u001b[0m: 'function' object has no attribute 'keywords'"
          ]
        }
      ]
    }
  ]
}